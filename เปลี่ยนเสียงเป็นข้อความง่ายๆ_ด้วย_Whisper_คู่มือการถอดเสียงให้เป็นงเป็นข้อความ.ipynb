{
  "nbformat": 4,
  "nbformat_minor": 0,
  "metadata": {
    "colab": {
      "provenance": [],
      "gpuType": "T4",
      "include_colab_link": true
    },
    "kernelspec": {
      "name": "python3",
      "display_name": "Python 3"
    },
    "language_info": {
      "name": "python"
    },
    "accelerator": "GPU"
  },
  "cells": [
    {
      "cell_type": "markdown",
      "metadata": {
        "id": "view-in-github",
        "colab_type": "text"
      },
      "source": [
        "<a href=\"https://colab.research.google.com/github/Kokoabassplayer/Speech-to-text-with-Whisper-model/blob/main/%E0%B9%80%E0%B8%9B%E0%B8%A5%E0%B8%B5%E0%B9%88%E0%B8%A2%E0%B8%99%E0%B9%80%E0%B8%AA%E0%B8%B5%E0%B8%A2%E0%B8%87%E0%B9%80%E0%B8%9B%E0%B9%87%E0%B8%99%E0%B8%82%E0%B9%89%E0%B8%AD%E0%B8%84%E0%B8%A7%E0%B8%B2%E0%B8%A1%E0%B8%87%E0%B9%88%E0%B8%B2%E0%B8%A2%E0%B9%86_%E0%B8%94%E0%B9%89%E0%B8%A7%E0%B8%A2_Whisper_%E0%B8%84%E0%B8%B9%E0%B9%88%E0%B8%A1%E0%B8%B7%E0%B8%AD%E0%B8%81%E0%B8%B2%E0%B8%A3%E0%B8%96%E0%B8%AD%E0%B8%94%E0%B9%80%E0%B8%AA%E0%B8%B5%E0%B8%A2%E0%B8%87%E0%B9%83%E0%B8%AB%E0%B9%89%E0%B9%80%E0%B8%9B%E0%B9%87%E0%B8%99%E0%B8%87%E0%B9%80%E0%B8%9B%E0%B9%87%E0%B8%99%E0%B8%82%E0%B9%89%E0%B8%AD%E0%B8%84%E0%B8%A7%E0%B8%B2%E0%B8%A1.ipynb\" target=\"_parent\"><img src=\"https://colab.research.google.com/assets/colab-badge.svg\" alt=\"Open In Colab\"/></a>"
      ]
    },
    {
      "cell_type": "markdown",
      "source": [
        "# เปลี่ยนเสียงเป็นข้อความง่ายๆ ด้วย Whisper: คู่มือการถอดเสียงและแปลภาษา\n",
        "เปิดการใช้งาน gpu ของ colab ก่อนนะครับ 👉 https://www.geeksforgeeks.org/how-to-use-gpu-in-google-colab/\n"
      ],
      "metadata": {
        "id": "P-oEnnx0Tfcm"
      }
    },
    {
      "cell_type": "markdown",
      "source": [
        "## การตั้งค่า\n",
        "เราใช้ Python 3.9.9 และ [PyTorch](https://pytorch.org/) 1.10.1 เพื่อฝึกและทดสอบโมเดลของเรา\n",
        "\n",
        "อย่างไรก็ตาม โค้ดเบสนี้ควรจะสามารถใช้งานได้กับ Python 3.8-3.11 และ PyTorch เวอร์ชันล่าสุด\n",
        "\n",
        "โค้ดเบสนี้ยังพึ่งพาแพ็กเกจ Python บางตัว โดยเฉพาะ OpenAI's [tiktoken](https://github.com/openai/tiktoken) จาก OpenAI สำหรับการใช้งาน tokenizer ที่รวดเร็ว\n",
        "\n",
        "คุณสามารถดาวน์โหลดและติดตั้ง (หรืออัปเดตเป็น) รุ่นล่าสุดของ Whisper ด้วยคำสั่งต่อไปนี้:"
      ],
      "metadata": {
        "id": "LvdYS9mHZmIU"
      }
    },
    {
      "cell_type": "code",
      "source": [
        "pip install -U openai-whisper"
      ],
      "metadata": {
        "colab": {
          "base_uri": "https://localhost:8080/"
        },
        "id": "yA84GoNlJsTZ",
        "outputId": "bcc707f9-bb21-4a0a-c8b2-ed45e152498b"
      },
      "execution_count": null,
      "outputs": [
        {
          "output_type": "stream",
          "name": "stdout",
          "text": [
            "Requirement already satisfied: openai-whisper in /usr/local/lib/python3.10/dist-packages (20231117)\n",
            "Requirement already satisfied: triton<3,>=2.0.0 in /usr/local/lib/python3.10/dist-packages (from openai-whisper) (2.2.0)\n",
            "Requirement already satisfied: numba in /usr/local/lib/python3.10/dist-packages (from openai-whisper) (0.58.1)\n",
            "Requirement already satisfied: numpy in /usr/local/lib/python3.10/dist-packages (from openai-whisper) (1.25.2)\n",
            "Requirement already satisfied: torch in /usr/local/lib/python3.10/dist-packages (from openai-whisper) (2.2.1+cu121)\n",
            "Requirement already satisfied: tqdm in /usr/local/lib/python3.10/dist-packages (from openai-whisper) (4.66.2)\n",
            "Requirement already satisfied: more-itertools in /usr/local/lib/python3.10/dist-packages (from openai-whisper) (10.1.0)\n",
            "Requirement already satisfied: tiktoken in /usr/local/lib/python3.10/dist-packages (from openai-whisper) (0.6.0)\n",
            "Requirement already satisfied: filelock in /usr/local/lib/python3.10/dist-packages (from triton<3,>=2.0.0->openai-whisper) (3.13.4)\n",
            "Requirement already satisfied: llvmlite<0.42,>=0.41.0dev0 in /usr/local/lib/python3.10/dist-packages (from numba->openai-whisper) (0.41.1)\n",
            "Requirement already satisfied: regex>=2022.1.18 in /usr/local/lib/python3.10/dist-packages (from tiktoken->openai-whisper) (2023.12.25)\n",
            "Requirement already satisfied: requests>=2.26.0 in /usr/local/lib/python3.10/dist-packages (from tiktoken->openai-whisper) (2.31.0)\n",
            "Requirement already satisfied: typing-extensions>=4.8.0 in /usr/local/lib/python3.10/dist-packages (from torch->openai-whisper) (4.11.0)\n",
            "Requirement already satisfied: sympy in /usr/local/lib/python3.10/dist-packages (from torch->openai-whisper) (1.12)\n",
            "Requirement already satisfied: networkx in /usr/local/lib/python3.10/dist-packages (from torch->openai-whisper) (3.3)\n",
            "Requirement already satisfied: jinja2 in /usr/local/lib/python3.10/dist-packages (from torch->openai-whisper) (3.1.3)\n",
            "Requirement already satisfied: fsspec in /usr/local/lib/python3.10/dist-packages (from torch->openai-whisper) (2023.6.0)\n",
            "Requirement already satisfied: nvidia-cuda-nvrtc-cu12==12.1.105 in /usr/local/lib/python3.10/dist-packages (from torch->openai-whisper) (12.1.105)\n",
            "Requirement already satisfied: nvidia-cuda-runtime-cu12==12.1.105 in /usr/local/lib/python3.10/dist-packages (from torch->openai-whisper) (12.1.105)\n",
            "Requirement already satisfied: nvidia-cuda-cupti-cu12==12.1.105 in /usr/local/lib/python3.10/dist-packages (from torch->openai-whisper) (12.1.105)\n",
            "Requirement already satisfied: nvidia-cudnn-cu12==8.9.2.26 in /usr/local/lib/python3.10/dist-packages (from torch->openai-whisper) (8.9.2.26)\n",
            "Requirement already satisfied: nvidia-cublas-cu12==12.1.3.1 in /usr/local/lib/python3.10/dist-packages (from torch->openai-whisper) (12.1.3.1)\n",
            "Requirement already satisfied: nvidia-cufft-cu12==11.0.2.54 in /usr/local/lib/python3.10/dist-packages (from torch->openai-whisper) (11.0.2.54)\n",
            "Requirement already satisfied: nvidia-curand-cu12==10.3.2.106 in /usr/local/lib/python3.10/dist-packages (from torch->openai-whisper) (10.3.2.106)\n",
            "Requirement already satisfied: nvidia-cusolver-cu12==11.4.5.107 in /usr/local/lib/python3.10/dist-packages (from torch->openai-whisper) (11.4.5.107)\n",
            "Requirement already satisfied: nvidia-cusparse-cu12==12.1.0.106 in /usr/local/lib/python3.10/dist-packages (from torch->openai-whisper) (12.1.0.106)\n",
            "Requirement already satisfied: nvidia-nccl-cu12==2.19.3 in /usr/local/lib/python3.10/dist-packages (from torch->openai-whisper) (2.19.3)\n",
            "Requirement already satisfied: nvidia-nvtx-cu12==12.1.105 in /usr/local/lib/python3.10/dist-packages (from torch->openai-whisper) (12.1.105)\n",
            "Requirement already satisfied: nvidia-nvjitlink-cu12 in /usr/local/lib/python3.10/dist-packages (from nvidia-cusolver-cu12==11.4.5.107->torch->openai-whisper) (12.4.127)\n",
            "Requirement already satisfied: charset-normalizer<4,>=2 in /usr/local/lib/python3.10/dist-packages (from requests>=2.26.0->tiktoken->openai-whisper) (3.3.2)\n",
            "Requirement already satisfied: idna<4,>=2.5 in /usr/local/lib/python3.10/dist-packages (from requests>=2.26.0->tiktoken->openai-whisper) (3.7)\n",
            "Requirement already satisfied: urllib3<3,>=1.21.1 in /usr/local/lib/python3.10/dist-packages (from requests>=2.26.0->tiktoken->openai-whisper) (2.0.7)\n",
            "Requirement already satisfied: certifi>=2017.4.17 in /usr/local/lib/python3.10/dist-packages (from requests>=2.26.0->tiktoken->openai-whisper) (2024.2.2)\n",
            "Requirement already satisfied: MarkupSafe>=2.0 in /usr/local/lib/python3.10/dist-packages (from jinja2->torch->openai-whisper) (2.1.5)\n",
            "Requirement already satisfied: mpmath>=0.19 in /usr/local/lib/python3.10/dist-packages (from sympy->torch->openai-whisper) (1.3.0)\n"
          ]
        }
      ]
    },
    {
      "cell_type": "markdown",
      "source": [
        "### นอกจากนี้ยังจำเป็นต้องใช้เครื่องมือบรรทัดคำสั่ง [ffmpeg](https://ffmpeg.org/) ซึ่งสามารถติดตั้งได้จากตัวจัดการแพ็กเกจ:"
      ],
      "metadata": {
        "id": "bt8l7_UwUIgR"
      }
    },
    {
      "cell_type": "code",
      "source": [
        "!apt update && apt install -y ffmpeg"
      ],
      "metadata": {
        "colab": {
          "base_uri": "https://localhost:8080/"
        },
        "id": "guGNeMbiOFoh",
        "outputId": "156ea0c1-b9b3-4167-bb16-fe3e9bdbf5ad"
      },
      "execution_count": null,
      "outputs": [
        {
          "output_type": "stream",
          "name": "stdout",
          "text": [
            "\u001b[33m\r0% [Working]\u001b[0m\r            \rHit:1 https://cloud.r-project.org/bin/linux/ubuntu jammy-cran40/ InRelease\n",
            "\u001b[33m\r0% [Connecting to archive.ubuntu.com (185.125.190.39)] [Waiting for headers] [Connecting to ppa.laun\u001b[0m\r                                                                                                    \rHit:2 http://security.ubuntu.com/ubuntu jammy-security InRelease\n",
            "Hit:3 https://developer.download.nvidia.com/compute/cuda/repos/ubuntu2204/x86_64  InRelease\n",
            "Hit:4 http://archive.ubuntu.com/ubuntu jammy InRelease\n",
            "Hit:5 http://archive.ubuntu.com/ubuntu jammy-updates InRelease\n",
            "Hit:6 http://archive.ubuntu.com/ubuntu jammy-backports InRelease\n",
            "Hit:7 https://ppa.launchpadcontent.net/c2d4u.team/c2d4u4.0+/ubuntu jammy InRelease\n",
            "Hit:8 https://ppa.launchpadcontent.net/deadsnakes/ppa/ubuntu jammy InRelease\n",
            "Hit:9 https://ppa.launchpadcontent.net/graphics-drivers/ppa/ubuntu jammy InRelease\n",
            "Hit:10 https://ppa.launchpadcontent.net/ubuntugis/ppa/ubuntu jammy InRelease\n",
            "Reading package lists... Done\n",
            "Building dependency tree... Done\n",
            "Reading state information... Done\n",
            "45 packages can be upgraded. Run 'apt list --upgradable' to see them.\n",
            "Reading package lists... Done\n",
            "Building dependency tree... Done\n",
            "Reading state information... Done\n",
            "ffmpeg is already the newest version (7:4.4.2-0ubuntu0.22.04.1).\n",
            "0 upgraded, 0 newly installed, 0 to remove and 45 not upgraded.\n"
          ]
        }
      ]
    },
    {
      "cell_type": "markdown",
      "source": [
        "### หากการติดตั้งล้มเหลวพร้อมข้อความ \"No module named 'setuptools_rust'\"\n",
        "\n",
        "---\n",
        "\n",
        "ให้ติดตั้ง setuptools_rust:"
      ],
      "metadata": {
        "id": "gkKsfeuuUlnw"
      }
    },
    {
      "cell_type": "markdown",
      "source": [
        "### คุณอาจต้องติดตั้ง rust ด้วย ในกรณีที่ tiktoken ไม่มีไบนารีสำเร็จรูปสำหรับระบบปฏิบัติการของคุณ\n",
        "\n",
        "หากคุณพบข้อผิดพลาดในระหว่างการติดตั้งด้วยคำสั่ง `pip install` ข้างต้น\n",
        "\n",
        "โปรดดูขั้นตอนการติดตั้งใน Getting started page เพื่อติดตั้งสภาพแวดล้อมการพัฒนา Rust\n",
        "\n",
        "นอกจากนี้ คุณอาจต้องตั้งค่าตัวแปรสภาพแวดล้อม `PATH` ด้วย เช่น:\n",
        "export PATH=\"$HOME/.cargo/bin:$PATH\"\n",
        "\n",
        "หากการติดตั้งล้มเหลวด้วยข้อผิดพลาด `No module named 'setuptools_rust'`\n",
        "\n",
        "คุณจำเป็นต้องติดตั้ง `setuptools_rust` เช่น ด้วยคำสั่ง:"
      ],
      "metadata": {
        "id": "hukuS_uGbCtg"
      }
    },
    {
      "cell_type": "code",
      "source": [
        "pip install setuptools-rust"
      ],
      "metadata": {
        "colab": {
          "base_uri": "https://localhost:8080/"
        },
        "id": "uDgo315mN_cx",
        "outputId": "5d8cf8d3-0998-485b-e03c-e07c7500561f"
      },
      "execution_count": null,
      "outputs": [
        {
          "output_type": "stream",
          "name": "stdout",
          "text": [
            "Requirement already satisfied: setuptools-rust in /usr/local/lib/python3.10/dist-packages (1.9.0)\n",
            "Requirement already satisfied: setuptools>=62.4 in /usr/local/lib/python3.10/dist-packages (from setuptools-rust) (67.7.2)\n",
            "Requirement already satisfied: semantic-version<3,>=2.8.2 in /usr/local/lib/python3.10/dist-packages (from setuptools-rust) (2.10.0)\n",
            "Requirement already satisfied: tomli>=1.2.1 in /usr/local/lib/python3.10/dist-packages (from setuptools-rust) (2.0.1)\n"
          ]
        }
      ]
    },
    {
      "cell_type": "markdown",
      "source": [],
      "metadata": {
        "id": "YQhKCL8Avw1m"
      }
    },
    {
      "cell_type": "markdown",
      "source": [
        "## โมเดลและภาษาที่ใช้ได้\n",
        "\n",
        "มีโมเดลขนาด 5 ขนาด, 4 ขนาดสำหรับภาษาอังกฤษเท่านั้น พร้อมการปรับสมดุลความเร็วและความแม่นยำ ดังนี้:\n",
        "\n",
        "| ขนาด    | พารามิเตอร์ | โมเดลภาษาอังกฤษ | โมเดลหลากภาษา | VRAM ที่ต้องการ | ความเร็วเทียบกับโมเดลใหญ่ |\n",
        "|---------|--------------|-------------------|---------------|-----------------|------------------------|\n",
        "| tiny    | 39 M         | tiny.en           | tiny          | ~1 GB           | ~32x                   |\n",
        "| base    | 74 M         | base.en           | base          | ~1 GB           | ~16x                   |\n",
        "| small   | 244 M        | small.en          | small         | ~2 GB           | ~6x                    |\n",
        "| medium  | 769 M        | medium.en         | medium        | ~5 GB           | ~2x                    |\n",
        "| large   | 1550 M       | N/A               | large         | ~10 GB          | 1x                     |\n",
        "\n",
        "\"en\" โมเดลสำหรับภาษาอังกฤษทำงานได้ดีกว่า โดยเฉพาะสำหรับ tiny.en และ base.en การต่างกันนี้น้อยลงสำหรับ small.en และ medium.en\n",
        "\n",
        "Whisper แสดงประสิทธิภาพแตกต่างกันไปตามภาษา ดังที่เห็นจาก WERs (Word Error Rates) และ CER (Character Error Rates) ที่วัดจากชุดข้อมูล Common Voice 15 และ Fleurs สามารถดูข้อมูลเพิ่มเติมได้ในเอกสารฉบับเต็ม.\n"
      ],
      "metadata": {
        "id": "CKfsHOnDUvXB"
      }
    },
    {
      "cell_type": "markdown",
      "source": [
        "## การใช้งานใน Python\n",
        "การถอดเสียงสามารถทำได้ใน Python:"
      ],
      "metadata": {
        "id": "AxEE7SWTVci8"
      }
    },
    {
      "cell_type": "markdown",
      "source": [
        "### ใช้แบบง่ายๆ\n",
        "ไฟล์ เสียง mp3 ให้โหลดของตัวเองเข้าไปนะครับ แล้วแก้ path ให้ตรงกับชื่อไฟล์นะครับ"
      ],
      "metadata": {
        "id": "tqs4LpBtVqW_"
      }
    },
    {
      "cell_type": "code",
      "source": [
        "import whisper\n",
        "import torch\n",
        "\n",
        "model = whisper.load_model(\"large\")\n",
        "result = model.transcribe(\"sample audio.mp3\")\n",
        "print(result[\"text\"])\n",
        "\n",
        "# นำข้อมูลออกจาก gpu memory\n",
        "torch.cuda.empty_cache()"
      ],
      "metadata": {
        "colab": {
          "base_uri": "https://localhost:8080/"
        },
        "id": "YhGMzGdpMsKf",
        "outputId": "cdbf3ad7-876a-48ea-e48b-02efb3f0a266"
      },
      "execution_count": null,
      "outputs": [
        {
          "output_type": "stream",
          "name": "stdout",
          "text": [
            "สวัสดีครับ ทดสอบ ทดสอบ คลิปนี้จะใช้ทดสอบการใช้ Model Whisper ในการถอยความจากเสียงนี้ออกมาเป็นภาษาไทยแบบตัวหนังสือนะครับ\n"
          ]
        }
      ]
    },
    {
      "cell_type": "markdown",
      "source": [
        "### ภายในการทำงานของเมธอด `transcribe()`\n",
        "เมธอด `transcribe()` จะอ่านไฟล์เสียงทั้งหมดและประมวลผลด้วยการเลื่อนหน้าต่างขนาด 30 วินาที\n",
        "\n",
        "โดยจะทำการคาดการณ์อัตโนมัติแบบต่อเนื่องในแต่ละหน้าต่าง\n",
        "\n",
        "ตัวอย่างการใช้งาน `whisper.detect_language()` และ `whisper.decode()`\n",
        "\n",
        "ซึ่งเป็นการเรียกใช้โมเดลในระดับล่างสุด มีดังนี้:"
      ],
      "metadata": {
        "id": "jr1YlmK2Jk54"
      }
    },
    {
      "cell_type": "code",
      "source": [
        "import whisper\n",
        "import torch\n",
        "\n",
        "model = whisper.load_model(\"base\") # โมเดลขนาดเล็กให้ผลไม่ค่อยดีเท่าไหร่ครับ\n",
        "\n",
        "# โหลดไฟล์เสียงและปรับขนาดให้เหมาะสมกับ 30 วินาที\n",
        "audio = whisper.load_audio(\"sample audio.mp3\")\n",
        "audio = whisper.pad_or_trim(audio)\n",
        "\n",
        "# สร้าง log-Mel spectrogram และย้ายไปยังอุปกรณ์เดียวกับโมเดล\n",
        "mel = whisper.log_mel_spectrogram(audio).to(model.device)\n",
        "\n",
        "# ตรวจสอบภาษาที่ใช้พูด\n",
        "_, probs = model.detect_language(mel)\n",
        "print(f\"Detected language: {max(probs, key=probs.get)}\")\n",
        "\n",
        "# ถอดรหัสเสียง\n",
        "options = whisper.DecodingOptions()\n",
        "result = whisper.decode(model, mel, options)\n",
        "\n",
        "# แสดงข้อความที่จดจำได้\n",
        "print(result.text)\n",
        "\n",
        "# นำข้อมูลออกจาก gpu memory\n",
        "torch.cuda.empty_cache()"
      ],
      "metadata": {
        "colab": {
          "base_uri": "https://localhost:8080/"
        },
        "id": "2e-cEDKOJdcF",
        "outputId": "76d04258-2aa0-479e-a31b-c95b824bb82b"
      },
      "execution_count": null,
      "outputs": [
        {
          "output_type": "stream",
          "name": "stdout",
          "text": [
            "Detected language: th\n",
            "สวัสดีครับ ทุกสอบทุกสอบคิดนี้จะใช้ทุกสอบบ้านชายโมเตอร์วิสเบิร์นี้การท่อยพราบจากเสียงมีออกมาเป็นมาสาฮาถ้ายแบบตัวนั้นสื้อดครับ\n"
          ]
        }
      ]
    },
    {
      "cell_type": "markdown",
      "source": [
        "## การดาวน์โหลดและถอดเสียงจาก YouTube ด้วย Whisper"
      ],
      "metadata": {
        "id": "c1ltqlmpfdqA"
      }
    },
    {
      "cell_type": "markdown",
      "source": [
        "### ขั้นตอนที่ 1: ติดตั้ง yt-dlp สำหรับการดาวน์โหลดเสียงจาก YouTube"
      ],
      "metadata": {
        "id": "x4gMYXC9f3cr"
      }
    },
    {
      "cell_type": "code",
      "source": [
        "!pip install yt-dlp"
      ],
      "metadata": {
        "colab": {
          "base_uri": "https://localhost:8080/"
        },
        "id": "S1ksXK03eQxI",
        "outputId": "c407e01e-0078-4fee-bef9-02025cc306ed"
      },
      "execution_count": null,
      "outputs": [
        {
          "output_type": "stream",
          "name": "stdout",
          "text": [
            "Requirement already satisfied: yt-dlp in /usr/local/lib/python3.10/dist-packages (2024.4.9)\n",
            "Requirement already satisfied: brotli in /usr/local/lib/python3.10/dist-packages (from yt-dlp) (1.1.0)\n",
            "Requirement already satisfied: certifi in /usr/local/lib/python3.10/dist-packages (from yt-dlp) (2024.2.2)\n",
            "Requirement already satisfied: mutagen in /usr/local/lib/python3.10/dist-packages (from yt-dlp) (1.47.0)\n",
            "Requirement already satisfied: pycryptodomex in /usr/local/lib/python3.10/dist-packages (from yt-dlp) (3.20.0)\n",
            "Requirement already satisfied: requests<3,>=2.31.0 in /usr/local/lib/python3.10/dist-packages (from yt-dlp) (2.31.0)\n",
            "Requirement already satisfied: urllib3<3,>=1.26.17 in /usr/local/lib/python3.10/dist-packages (from yt-dlp) (2.0.7)\n",
            "Requirement already satisfied: websockets>=12.0 in /usr/local/lib/python3.10/dist-packages (from yt-dlp) (12.0)\n",
            "Requirement already satisfied: charset-normalizer<4,>=2 in /usr/local/lib/python3.10/dist-packages (from requests<3,>=2.31.0->yt-dlp) (3.3.2)\n",
            "Requirement already satisfied: idna<4,>=2.5 in /usr/local/lib/python3.10/dist-packages (from requests<3,>=2.31.0->yt-dlp) (3.7)\n"
          ]
        }
      ]
    },
    {
      "cell_type": "markdown",
      "source": [
        "### ขั้นตอนที่ 2: ฟังก์ชั่นสำหรับการดาวน์โหลดเสียงจากวิดีโอ YouTube"
      ],
      "metadata": {
        "id": "a6CyddgTf_0j"
      }
    },
    {
      "cell_type": "code",
      "source": [
        "def download_audio(youtube_url, output_path=\"audio.mp3\"):\n",
        "    # คำสั่งเพื่อดึงเสียงเป็นไฟล์ MP3\n",
        "    command = f\"yt-dlp -x --audio-format mp3 -o '{output_path}' {youtube_url}\"\n",
        "    # รันคำสั่งนี้\n",
        "    !{command}"
      ],
      "metadata": {
        "id": "zQBH-1aGf_Co"
      },
      "execution_count": null,
      "outputs": []
    },
    {
      "cell_type": "code",
      "source": [
        "import os\n",
        "import subprocess\n",
        "\n",
        "def download_audio(youtube_url, output_path=\"audio.mp3\"):\n",
        "    # Check if file exists and delete it\n",
        "    if os.path.exists(output_path):\n",
        "        os.remove(output_path)\n",
        "        print(f\"Deleted existing {output_path}\")\n",
        "\n",
        "    # Command to download audio as an MP3 file\n",
        "    command = f\"yt-dlp -x --audio-format mp3 -o '{output_path}' {youtube_url}\"\n",
        "\n",
        "    # Run the command to download the file\n",
        "    subprocess.run(command, shell=True)\n",
        "    print(f\"Downloaded audio to {output_path}\")"
      ],
      "metadata": {
        "id": "jAoMGvFUFEgG"
      },
      "execution_count": null,
      "outputs": []
    },
    {
      "cell_type": "code",
      "source": [
        "import os\n",
        "import subprocess\n",
        "\n",
        "def download_audio(youtube_url, output_path=\"audio.mp3\"):\n",
        "    # Define alternative file paths that might exist\n",
        "    alternative_audio_path = \"audio.webm\"\n",
        "\n",
        "    # Check if file exists and delete it\n",
        "    if os.path.exists(output_path):\n",
        "        os.remove(output_path)\n",
        "        print(f\"Deleted existing {output_path}\")\n",
        "\n",
        "    if os.path.exists(alternative_audio_path):\n",
        "        os.remove(alternative_audio_path)\n",
        "        print(f\"Deleted existing {alternative_audio_path}\")\n",
        "\n",
        "    # Command to download audio as an MP3 file\n",
        "    command = f\"yt-dlp -x --audio-format mp3 -o '{output_path}' {youtube_url}\"\n",
        "\n",
        "    # Run the command to download the file\n",
        "    subprocess.run(command, shell=True)\n",
        "    print(f\"Downloaded audio to {output_path}\")"
      ],
      "metadata": {
        "id": "azmGWdT7GM6W"
      },
      "execution_count": null,
      "outputs": []
    },
    {
      "cell_type": "markdown",
      "source": [
        "### ดาวน์โหลดเสียงจากวิดีโอ"
      ],
      "metadata": {
        "id": "iFiMz0b-gIGn"
      }
    },
    {
      "cell_type": "code",
      "source": [
        "# URL ของวิดีโอ YouTube\n",
        "youtube_url = \"https://www.youtube.com/shorts/RoAA6_JMPqc\"  # แทนที่ด้วย URL ที่ต้องการ\n",
        "download_audio(youtube_url)\n"
      ],
      "metadata": {
        "colab": {
          "base_uri": "https://localhost:8080/"
        },
        "id": "ciZ7BbsTgNH1",
        "outputId": "e1997793-e0e9-44fb-c5fb-fc30b020bc96",
        "cellView": "code"
      },
      "execution_count": null,
      "outputs": [
        {
          "output_type": "stream",
          "name": "stdout",
          "text": [
            "[youtube] Extracting URL: https://www.youtube.com/shorts/RoAA6_JMPqc\n",
            "[youtube] RoAA6_JMPqc: Downloading webpage\n",
            "[youtube] RoAA6_JMPqc: Downloading ios player API JSON\n",
            "[youtube] RoAA6_JMPqc: Downloading android player API JSON\n",
            "\u001b[0;33mWARNING:\u001b[0m [youtube] Skipping player responses from android clients (got player responses for video \"aQvGIIdgFDM\" instead of \"RoAA6_JMPqc\")\n",
            "[youtube] RoAA6_JMPqc: Downloading m3u8 information\n",
            "[info] RoAA6_JMPqc: Downloading 1 format(s): 251\n",
            "[download] Destination: audio.webm\n",
            "\u001b[K[download] 100% of 1006.48KiB in \u001b[1;37m00:00:00\u001b[0m at \u001b[0;32m4.08MiB/s\u001b[0m\n",
            "[ExtractAudio] Destination: audio.mp3\n",
            "Deleting original file audio.webm (pass -k to keep)\n"
          ]
        }
      ]
    },
    {
      "cell_type": "markdown",
      "source": [
        "### ขั้นตอนที่ 3: ถอดเสียงจากไฟล์ที่ดาวน์โหลดโดยใช้ Whisper\n",
        "ขนาดเล็กให้ผลสำหรับภาษาไทยไม่ค่อยดีเท่าไหร่ครับ"
      ],
      "metadata": {
        "id": "S6EQbvwtgn6F"
      }
    },
    {
      "cell_type": "markdown",
      "source": [
        "#### model ขนาด tiny ให้ผลไม่ค่อยดีเท่าไหร่สำหรับภาษาไทยครับ"
      ],
      "metadata": {
        "id": "OrmFvjuBomA3"
      }
    },
    {
      "cell_type": "code",
      "source": [
        "import whisper\n",
        "import torch\n",
        "\n",
        "# โหลดโมเดล Whisper\n",
        "model = whisper.load_model(\"tiny\") # หรือขนาดอื่นๆ ที่ต้องการ ['tiny', 'base', 'small', 'medium', 'large']\n",
        "\n",
        "# ถอดเสียงจากไฟล์เสียง\n",
        "result = model.transcribe(\"audio.mp3\")\n",
        "\n",
        "# แสดงผลการถอดเสียง\n",
        "print(result[\"text\"])\n",
        "\n",
        "# นำข้อมูลออกจาก gpu memory\n",
        "torch.cuda.empty_cache()\n"
      ],
      "metadata": {
        "colab": {
          "base_uri": "https://localhost:8080/"
        },
        "id": "LvL6jcxhgqDj",
        "outputId": "4469d82a-caee-4c61-9091-1224fe13f225"
      },
      "execution_count": null,
      "outputs": [
        {
          "output_type": "stream",
          "name": "stdout",
          "text": [
            "ว่า รีชหน่อย aggressive that like thatWatching instead of you偷ลี Coverไม่มีน Both sidesคนนี่ลูกดินปว่าส Bellaเหรอ กับมีคomm specificsบ่าก็รีน นี้ เดี๋ยวแไหมร่ พวกใจถ้าสงพพมาปบistical ปตั 온ความาพลาของพัว asking you それ วิวันนี้กันอยู่ถ้าบคกี้ว่าสับเสร็ impeachmentถ้า I'll Sharpปล่าง4 4 Plus F10 ด้วยเราเมื่อเพราะ koy้าจะมันอะไร filling Burning and Painting is something we must say that someone knows each other's feelings.มา cuadιαสร้างตroseไหนหน้าไม่ทำย it's your father and well.เรารักหน้าจะเป็นมีากมากปามที่ Than℃ company of good lights and servants say it if they get mugged around their mind.Brianฝson and the gewordenall whom he's taking care of was when done by a maker of the vehicle that caught a closeลูกคนที่กินมาก ล้องปลาจายดู\n"
          ]
        }
      ]
    },
    {
      "cell_type": "markdown",
      "source": [
        "#### model ขนาด base ก็ยังไงให้ผลไม่ค่อยดีสำหรับภาษาไทยครับ"
      ],
      "metadata": {
        "id": "UC2XHeVXkpQW"
      }
    },
    {
      "cell_type": "code",
      "source": [
        "import whisper\n",
        "import torch\n",
        "\n",
        "# โหลดโมเดล Whisper\n",
        "model = whisper.load_model(\"base\") # หรือขนาดอื่นๆ ที่ต้องการ ['tiny', 'base', 'small', 'medium', 'large']\n",
        "# ถอดเสียงจากไฟล์เสียง\n",
        "result = model.transcribe(\"audio.mp3\")\n",
        "\n",
        "# แสดงผลการถอดเสียง\n",
        "print(result[\"text\"])\n",
        "\n",
        "\n",
        "# นำข้อมูลออกจาก gpu memory\n",
        "torch.cuda.empty_cache()"
      ],
      "metadata": {
        "colab": {
          "base_uri": "https://localhost:8080/"
        },
        "id": "VwL1ZkT6kurs",
        "outputId": "fddb9b8c-fb61-4554-8240-b9cd8cf3d3cd"
      },
      "execution_count": null,
      "outputs": [
        {
          "output_type": "stream",
          "name": "stdout",
          "text": [
            "วันนี้ผมจะเป็น...ผมอยากจะเป็นปลิสนและกลากที่นำ AI มาชาย usedK จริงๆนะB-2P นี้ที่ทำให้ทำคุณทางโลกต้องมาจ้างคุณไทยทำอย่างไรผมอยากรู้เลยบอกพูดทิ่งนี้ อยากรู้เลยผมทำเป็น feedback ทั้งสิ้งแพล ปลาป ใช่ไหมครับสิ่ง เป็นหาหลากของมา เป็นหาหลากของผล ปลาป ผมผมคือว่า ที่ผมแปลที่พระสานคิดสุดท้าคุณท้ากะคุณท้าคุณท้าคุณท้าคุณท้าคุณท้าคุณท้าคุณท้าคุณท้าคุณท้าคุณท้าคุณท้าคุณท้าคุณท้าคุณท้าคุณท้าคุณท้าคุณท้าคุณท้าคุณท้าคุณท้าคุณท้าคุณท้าคุณท้าคุณท้าคุณท้าคุณท้าคุณท้าคุณท้าคุณท้าคุณท้าคุณท้าคุณท้าคุณท้าคุณท้าคุณท้าคุณท้าคุณท้าคบอกว่าลูก คนท้ายกิ่งมาก ลองเปล่าใจดู\n"
          ]
        }
      ]
    },
    {
      "cell_type": "markdown",
      "source": [
        "#### model ขนาด small ก็ยังไงให้ผลไม่ค่อยดีสำหรับภาษาไทยครับ"
      ],
      "metadata": {
        "id": "FcQFG71ypHrg"
      }
    },
    {
      "cell_type": "code",
      "source": [
        "import whisper\n",
        "import torch\n",
        "\n",
        "# โหลดโมเดล Whisper\n",
        "model = whisper.load_model(\"small\") # หรือขนาดอื่นๆ ที่ต้องการ ['tiny', 'base', 'small', 'medium', 'large']\n",
        "\n",
        "# ถอดเสียงจากไฟล์เสียง\n",
        "result = model.transcribe(\"audio.mp3\")\n",
        "\n",
        "# แสดงผลการถอดเสียง\n",
        "print(result[\"text\"])\n",
        "\n",
        "# นำข้อมูลออกจาก gpu memory\n",
        "torch.cuda.empty_cache()"
      ],
      "metadata": {
        "colab": {
          "base_uri": "https://localhost:8080/"
        },
        "cellView": "code",
        "id": "iddxa2TQkKs9",
        "outputId": "fbfd6fab-9da9-46db-943b-877f9e8937ff"
      },
      "execution_count": null,
      "outputs": [
        {
          "output_type": "stream",
          "name": "stdout",
          "text": [
            "วันนี้ผมจะเป็น...ผมไม่อยากจะเป็นประสัตว์เล็กๆ ที่นำ AI มาใช้Use Case จริงๆนะปี 2 ปีนี้ที่ทำให้ทั้งโลกต้องมาจ้างคนไทยทำอย่างไร?ผมอยากรู้เลยพอพูดถึงนี้อยากรู้เลยผมทำเป็นฟริลังซ์ที่แพร์ฟอร์มปับใช่มั้ยครับสิ่งปัญหาลักของภาษาของผมคือว่าที่ผมแพร์ที่ยังมีภาษาของกิจ สุดท้าคนทัก คุณทักเป็นภาษาของบ้านเราอยู่อีกภาษาภาษาฟรังเสธภาษาศเบนภาษาษาของกิจแต่คนไทยฟิเล็งวัน 102 มือแล้วที่ผมมีอยู่ในมือคู่ศาคกิจของทุกคนไหม? ก็ไม่ใช่สุดท้าว่าวันนี้เรามีที่นรู้อย่างไง?ที่ผมสาวันนำมาใช้ได้แล้วถ้าวันนี้ผมสาวัสแปลประสาศเบนภาษาศเบนภาษาศเบนภาษาศเบนภาษาศเบนภาษาศเบนภาษาศเบนภาษาศเบนภาษาศเบนภาษาศเบนภาษาศเบนภาษาศเบนภาษาศเบนภาษาศเบนภาษาศเบนภาษาษาศเบนภาษาษาศเบนภาษาษาศ\n"
          ]
        }
      ]
    },
    {
      "cell_type": "markdown",
      "source": [
        "#### model ขนาด medium ให้ผลเริ่มจะพอใช้ได้กว่าขนาดเล็กครับ\n"
      ],
      "metadata": {
        "id": "JeqEtNllpNUS"
      }
    },
    {
      "cell_type": "code",
      "source": [
        "import whisper\n",
        "import torch\n",
        "\n",
        "# โหลดโมเดล Whisper\n",
        "model = whisper.load_model(\"medium\") # หรือขนาดอื่นๆ ที่ต้องการ ['tiny', 'base', 'small', 'medium', 'large']\n",
        "\n",
        "# ถอดเสียงจากไฟล์เสียง\n",
        "result = model.transcribe(\"audio.mp3\")\n",
        "\n",
        "# แสดงผลการถอดเสียง\n",
        "print(result[\"text\"])\n",
        "\n",
        "# นำข้อมูลออกจาก gpu memory\n",
        "torch.cuda.empty_cache()"
      ],
      "metadata": {
        "colab": {
          "base_uri": "https://localhost:8080/"
        },
        "id": "dq2ap9RIlTxz",
        "outputId": "e65aa976-feac-46a1-85e3-d075ece722ce"
      },
      "execution_count": null,
      "outputs": [
        {
          "output_type": "stream",
          "name": "stdout",
          "text": [
            "วันนี้ผมจะเป็น ผมอยากจะเป็นบริษัทแรกแรกที่นำ AI มาใช้ use case จริงๆนะปี 2 ปีนี้ที่ทำให้ทั้งโลกต้องมาจ้างคนไทยทำยังไงผมอยากรู้เลยพอพูดถึงนี้อยากรู้เลยพอทำเป็น freelance ใน platform ปัปใช่ไหมครับสิ่งปัญหาลักของว่าปัญหาลักของ platform ของผมคือว่าถึงผมแปลทุกอย่างเป็นภาษาอังกฤษสุดท้ากลัวคนทักคนทักเป็นภาษาบ้านเราอยู่ภาษา ภาษาพระรังเสตร ภาษาสเปน ภาษาอังกฤษแต่คนไทย freelanceมัน 1 สาส 2 มุลลาดที่ผมมีอยู่ในมือผู้ภาษากฤษของทุกคนไหมก็ไม่ใช่แต่ว่าวันนี้เรามีทิกโรง AIที่ผมสามารถนำมาใช้ได้แล้วถ้าวันนี้ผมสามารถแปลภาษาตรงๆจริงๆ technical briefสามารถแปลภาษาตรงๆ เป็นภาษาไทย ภาษาอังกฤษ ภาษาฟรังเสตร ภาษาอะไรก็ได้ผมกำลังทำการธรราชน์ข้างใหญ่ออกนอกประเทศไทยบอกว่าโลกคนไทยเก่งมากลองเปิดใจดู\n"
          ]
        }
      ]
    },
    {
      "cell_type": "markdown",
      "source": [
        "#### model ขนาด large ให้ผลดีใช้ได้ครับ แต่ช้ามากๆเมื่อรันด้วย CPU"
      ],
      "metadata": {
        "id": "HztFZcCTpTOR"
      }
    },
    {
      "cell_type": "code",
      "source": [
        "import whisper\n",
        "import torch\n",
        "\n",
        "# โหลดโมเดล Whisper\n",
        "model = whisper.load_model(\"large\") # หรือขนาดอื่นๆ ที่ต้องการ ['tiny', 'base', 'small', 'medium', 'large']\n",
        "\n",
        "# ถอดเสียงจากไฟล์เสียง\n",
        "result = model.transcribe(\"audio.mp3\")\n",
        "\n",
        "# แสดงผลการถอดเสียง\n",
        "print(result[\"text\"])\n",
        "\n",
        "# นำข้อมูลออกจาก gpu memory\n",
        "torch.cuda.empty_cache()"
      ],
      "metadata": {
        "colab": {
          "base_uri": "https://localhost:8080/"
        },
        "id": "UdYUuf-rlVMh",
        "outputId": "711ca51e-f854-40b7-9456-405690dd0a6c"
      },
      "execution_count": null,
      "outputs": [
        {
          "output_type": "stream",
          "name": "stdout",
          "text": [
            "วันนี้ผมอยากจะเป็นบริเศษแรกๆ ที่นำ AI มาใช้Use Case จริงๆ นะ ปี 2 ปีนี้ที่ทำให้ทั้งคนทั้งโลกต้องมาจ้างคนไทยทำยังไง ผมอยากรู้เลย พอพูดถึงนี้อยากรู้เลยเพราะทำเป็น Freelancing Platform ปั๊บใช่ไหมครับสิ่งปัญหาหลักของแผนฟอร์มของผมคือว่าถึงผมแปลทุกอย่างมีภาษาอังกฤษ สุดท้ายคนทักคุณก็ทักเป็นภาษาของบ้านเราก็อยู่อยู่ภาษาฝรั่งเศส ภาษาสเปน ภาษาอังกฤษแต่คนไทย Freelance มัน 120,000 บาท ที่ผมมีอยู่ในมือผู้ศักดิ์อังกฤษค่องทุกคนไหม ก็ไม่ใช่แต่ว่าวันนี้เรามีเทคโนโลยี AIที่ผมสามารถนำมาใช้ได้และถ้าวันนี้ผมสามารถแปลภาษาแบบตรงๆจริงๆ Technical Briefสามารถแปลตรงๆๆเป็นภาษาไทย ภาษาอังกฤษ ฝรั่งเศส ภาษาอะไรก็ได้ผมกำลังนำ ผมสามารถทำการตลาดขั้งใหญ่ออกนอกประเทศไทยบอกว่า โลกคนไทยเก่งมาก ลองเปิดใจดู\n"
          ]
        }
      ]
    },
    {
      "cell_type": "markdown",
      "source": [
        "### ทำเป็นฟังชั่นให้ใช้ง่ายขึ้น"
      ],
      "metadata": {
        "id": "6tDJSAOp9rEU"
      }
    },
    {
      "cell_type": "code",
      "source": [
        "import whisper\n",
        "import torch\n",
        "\n",
        "def transcribe_audio(audio_file_path, model_size=\"large\"):\n",
        "    \"\"\"\n",
        "    ใช้โมเดล Whisper ในการถอดเสียงจากไฟล์เสียง\n",
        "\n",
        "    Args:\n",
        "        audio_file_path (str): เส้นทางไฟล์เสียงที่ต้องการถอดเสียง\n",
        "        model_size (str, optional): ขนาดของโมเดล Whisper ที่จะโหลด\n",
        "            สามารถเลือกได้จาก ['tiny', 'base', 'small', 'medium', 'large']\n",
        "            ค่าเริ่มต้นคือ 'large'\n",
        "\n",
        "    Returns:\n",
        "        str: ข้อความที่ถูกถอดเสียงจากไฟล์เสียง\n",
        "    \"\"\"\n",
        "    # ขจัดหน่วยความจำ GPU\n",
        "    torch.cuda.empty_cache()\n",
        "\n",
        "    # โหลดโมเดล Whisper\n",
        "    model = whisper.load_model(model_size)\n",
        "\n",
        "    # ถอดเสียงจากไฟล์\n",
        "    result = model.transcribe(audio_file_path)\n",
        "\n",
        "    # นำข้อความที่ถูกถอดเสียงออกมา\n",
        "    transcribed_text = result[\"text\"]\n",
        "\n",
        "    # ขจัดหน่วยความจำ GPU\n",
        "    torch.cuda.empty_cache()\n",
        "\n",
        "    return transcribed_text"
      ],
      "metadata": {
        "id": "ldwvQ_0-1wUs"
      },
      "execution_count": null,
      "outputs": []
    },
    {
      "cell_type": "code",
      "source": [
        "# การใช้งานตัวอย่าง:\n",
        "audio_file_path = \"audio.mp3\"\n",
        "transcribed_text = transcribe_audio(audio_file_path)\n",
        "print(transcribed_text)"
      ],
      "metadata": {
        "id": "7dCuiE3TC1TO"
      },
      "execution_count": null,
      "outputs": []
    },
    {
      "cell_type": "markdown",
      "source": [
        "\n",
        "\n",
        "```\n",
        "# This is formatted as code\n",
        "```\n",
        "\n",
        "### ใช้งานจริง:\n",
        "1. ใส่ url ของ youtube ที่ต้องการถอดข้อความ\n",
        "2. เลือกขนาด model (มีผลกับความเร็วและความถูกต้อง)\n",
        "3. กดปุ่ม \"run\" ทางด้านซ้าย (หรือกดปุ่ม Ctrl + Enter)"
      ],
      "metadata": {
        "id": "bLkWZCYa_IQb"
      }
    },
    {
      "cell_type": "code",
      "source": [
        "youtube_url = \"https://www.youtube.com/watch?v=IDqC9tm3bAs&t=2634s\" # @param {type:\"string\"}\n",
        "model_size =  \"large\" # @param [\"tiny\", \"base\", \"small\", \"medium\", \"large\"] {type:\"string\"}\n",
        "audio_file_path = \"audio.mp3\"\n",
        "\n",
        "download_audio(youtube_url)\n",
        "transcribed_text = transcribe_audio(audio_file_path, model_size=model_size)\n",
        "print(transcribed_text)"
      ],
      "metadata": {
        "colab": {
          "base_uri": "https://localhost:8080/"
        },
        "id": "kVtwYuke8ltk",
        "outputId": "9e199c83-dcf4-4ab1-efc5-1d5dfbe704e7",
        "cellView": "form"
      },
      "execution_count": null,
      "outputs": [
        {
          "metadata": {
            "tags": null
          },
          "name": "stdout",
          "output_type": "stream",
          "text": [
            "Deleted existing audio.mp3\n",
            "Downloaded audio to audio.mp3\n",
            "วันนี้ยินดีต้อนรับนะครับสกูรีโอเปิดบ้านนะครับกับ AI Club ของเรานะครับก็ช่วงนี้คนพูดกันเยอะเรื่องของ AI นะครับAi Club จริงมีหลายอย่างที่เราพยายามทำเรามีรายการ AI Sarth อยู่บน YouTube พึ่งไพลอทตอนแรกไปสอนเปลี่ยนหน้าโมเดลทำนู้นทำนี่ แล้วก็จะมีความรู้อื่นๆ ที่มาให้แต่วันนี้เรามาเป็นเวอร์ชันออนกราวด์มาเจอหน้ากันจริงๆ เราจัดไปแล้วก่อนหน้านี้หนึ่งครั้งเวอร์ชันที่แล้วเป็น AI สำหรับ Developerวันนี้เรามาโฟกัสในเรื่องของ Data กันนะครับวันนี้เราได้รับเกียรติจาก Data Expertลองมาคุยกันว่าในโลกของ Data เราสามารถเอา AI มาช่วยทำงานเรายังไงได้บ้างก็แนะนำอันดับแรกผม ต้า น่าจะรู้จักหลายท่านอยู่แล้วมองไปแล้วเคิ้นเขินรู้จักเกือบทุกคนเลยชื่อต้า ก็เป็น MD อยู่ที่สกูรีโอวันนี้ครึ่งตัวเป็น Data Expert แต่อีกครึ่งตัวเป็นพิธีกรแล้วกันน้องน้องบอกว่า Topic นี้ยาก พี่ต้า Modulate เองเลยละกันเดี๋ยวเป็นพิธีกรให้ด้วยครึ่งหนึ่งทางที่สอง พี่สีระ เอกบุตรน่าจะไม่เคยมีใครเห็นหน้าเขาเท่าไหร่ เขาไม่ค่อยออกหน้าแต่ว่าทุกคนรู้จักเขาในนามเทป Excelใครเคยดูวีดีโอ ดูคลิปสอน ดูหรือจริงๆ Google ติดอะไร Excelโอกาสสูงมากที่จะไปตกอยู่ในเว็บเทป Excelพี่สีระครับผม อ้าว ประมือหน่อย ๆจริงๆวางตัวมาให้พูดในมุมอันอลิสต์เยอะหน่อยวันนี้โปรไฟล์คนที่เข้ามา มีทั้งคนที่ล้ำมาก ๆ แล้วเป็น Data Scientist ทำ Model แต่อีกครึ่งหนึ่งก็จริงๆเป็น Analyst ใช้เครื่องมือง่าย ๆ Spreadsheet พื้นฐานในการวิเคราะห์ข้อมูลเดี๋ยวพี่ระจะมาเล่าให้พวกเราฟังว่ามันเอามาใช้ทำอะไรได้บ้างแล้วก็อีกหนึ่งท่านครับผม พี่เชค ดร.เชค ธนชาติฤทธิ์บำรุงชื่อตำแหน่งขออนุญาตอ่านครับ เพราะมันยาวมากHead of ก็เป็น Head Program ที่ชื่อว่า Math อยู่ที่ NIDAก็หลายๆคนน่าจะเจอพี่เชคอยู่ในหลายๆเวทีแล้วล่ะแต่ก่อนจริงๆพี่เชคก็มาออกงานอะไรกับเราเยอะอยู่นะครับเป็น Expert แล้วกันด้าน Data Analytics นอกจากสอนที่ NIDA แล้วช่วยงานอยู่ที่ Data Cafe แล้วก็เป็นที่ปรึกษาให้กับหลายๆที่ครับผมเวลาว่างเล่น Martial Arts อย่าทำให้เขากรดเขาเปิดยิมของเขาอยู่แถวอโศกนะครับ ชื่อ Drive อโศกไปอุดหนุนได้โอเค ก็เดี๋ยวธีมที่เราจะคุยกันในวันนี้นะครับจริงๆเราอยากจะล้อกระบวนการทำงานเกี่ยวกับข้อมูลนะครับก็อันนี้ Framework มาตรฐานหลายคนอาจจะเคยเจอแล้วKRISTM นะครับก็เป็น Process ในการจริงๆต้องกลับบอกว่ามันเกิดมาในยุค Data Mining นะครับแต่ว่าสมัยนี้มันก็ยัง Frame ประมาณนี้แหละนะครับก็เดี๋ยวเราจะเริ่มคุยตั้งแต่เฮ้ย งานหนึ่งที่ Data Analyst ต้องทำก็คือเข้าใจธุรกิจเราจะวิเคราะห์ยังไง ตอบคำถามอะไร AI ช่วยได้หรือเปล่านะครับมีเรื่องของการทำความเข้าใจข้อมูล การ Prep ข้อมูลต่างๆไปจนถึงการทำ Model การวิเคราะห์นะครับการ Evaluate แล้วก็ไปจนถึง Deployment นะครับซึ่งหลักๆมันก็จะมีอยู่ 2 ก้อนนะตั้งคำถามให้ถูก ตั้งคำถามถูกแล้วทำให้มันถูกนะครับก็ Do the right things กับ Do things right นะครับที่พาร์ทแรกเดี๋ยวเราจะคุยภาพใหญ่ๆก่อนในเชิงธุรกิจ มันช่วยเรายังไงบ้างนะครับแล้วก็พาร์ทที่ 2 เดี๋ยวเราจะลงรายละเอียดลึกมากขึ้นว่าแล้วใน Process การทำงานกับข้อมูลมัน มันทำอะไรยังไงบ้างนะครับก่อนอื่นจริงๆ Icebreaking กันก่อนอาจจะอยากให้เริ่มจากพี่ๆเล่าให้ฟังหน่อยครับว่าทุกวันนี้ใช้ ChatGPT ตัวไหนอยู่บ้างใช้ทำอะไรเป็นหลักเอาแบบอาจจะไม่เกี่ยวกับ Data ก็ได้ครับให้ทุกคนได้พอรู้ก่อน อ่ะ ปีละเริ่มเลยครับก็คือใช้ LLM ตัวไหนบ้างใช่ไหมครับก็หลักๆก็จะมี 3 ตัวที่ฮิ้นมากๆเนอะมี ChatGPT มี Cloth แล้วก็มี Gemini นะครับใช้ทั้ง 3 ตัวแต่ว่าสัดส่วนไม่เหมือนกันตัวไหนชนะครับถ้าชนะด้านโลจิกส์และความถูกต้องผมยังมองว่า ChatGPT ยังชนะอยู่ชนะนิดหน่อยนะนิดหน่อยๆ โอเค แต่สปอนเซอร์ไม่เข้าแล้วก็ถ้าเป็นเรื่องของภาษา Cloth ชนะอ่า ถ้าเป็นเรื่องภาษา ภาษาเนียนๆเลยยิ่งภาษาไทยเขียนเก่งมากไม่แน่ใจหลายท่านเห็นโพสต์ของดิวกลมหรือเปล่าที่ไปคุยเรื่องปัญญาชีวิตกับ Cloth แล้วมันตอบมันเนียนมากJames Nye เนี่ย เฉดลเหมือนมากเรื่องความเร็วและเรื่องของ สมมติ ประมวลผลภาพที่มีข้อความภาษาไทยเนี่ยJames Nye แม่นมากจริงๆ James Nye In General จะเป็นอะไรที่มีภาษาไทยอยู่มักจะทำได้ดีกว่า เพราะว่าเค้าเป็น Googleเค้าก็จะมีโมเดลทางภาษาอะไรที่มีมายาวนานกว่าเข้าคราวประมาณนี้ก่อน พี่เชคครับจริงๆ ก็จ่ายเงินซื้อทางมิดเจอร์นี่ แชท jbt jmini นะฮะStable diffusion เขาไปแอบใช้เขาไม่เคยลองใช้ ที่ใช้สอนหนังสือหลักๆ ใช้ chat jbtก็คือ ด้วยความที่พอจ่ายเงินแล้วเนี่ยน้องสามารถ run code python on the go ได้เลยทันทีเพราะฉะนั้นเราก็สามารถแบบ สอน concept เสร็จปุ๊บ แต่ก่อนก็คือโห กว่าจะ switch ไปเขียน code ให้ดูอย่างนี้ฮะ เราก็สามารถแบบ ใช้น้องเนี่ยจาก concept ปุ๊บ แปลงเป็นแบบ action ให้เห็นทันทีว่าที่เราสอนเรื่องแบบ machine learning ทำนู่นนั่นเนี่ยน้องเขาเขียน code ปุ๊บๆๆๆๆๆๆ ยังไงบ้าง แล้วมันก็ทำให้นักศึกษาเข้าใจภาพมากขึ้นวาดรูปเนี่ย ก็ยังชอบมิดเจอร์นี่อยู่มันก็ยังดูเย็นๆ แต่จริงๆ ถ้าเกิดเป็น stable diffusion ถ้าจะเป๊ะกว่าแต่ยากกว่าใช่in general เขาจะบอกว่า stable diffusion มันยากกว่า แต่มัน control ได้เยอะกว่าปรับนู่นปรับนี่ ปรับนิดปรับหน่อย แต่ถ้าอยากออกแรงน้อยแล้วรูปสวยเลย ก็มิดเจอร์นี่ตอนนี้เขาใช้ Gemini ออกข้อสอบภาษาไทยออกได้รั้วมาก วันหนึ่ง ครึ่งวันเราสามารถออกได้เป็น 100 ข้อนักศึกษาน้ำตาไหลเลยก็เราก็สั่งเขาได้เขาจะบอกว่า ขอยากยาก movementsก็มันก็จะมีไม่เป็น choice ออกแบบ ตาม소ิทloe coraz연res�نên่ะมันไม่หลอกเลยtravel cholday caring comfortablemandarianน้องก็ทรงพลังมาก ล่าสุดสอบออก 10-60 ข้อท็อปน่าจะอยู่ที่แค่ 42 คะแนนไม่ใช่เพราะเฉลยผิดใช่ไหมครับไม่ เราบอกว่าถ้าไม่มีคำตอบให้ข้อ 5 ไว้ จอดจะอ่าน ไม่มีข้อกระดายถูกต้องโอเค ได้ครับ จริงๆทุกคนก็น่าจะใช้เกือบทุกตัว ผมเองก็ลองใช้เกือบทุกตัวแล้วก็ค่อนข้างเห็นด้วยกับหลายๆคนin general ไม่คิดอะไรก็จ่ายตังค์ให้แชท GPT เหมือนกันนะครับเจมมีนายไปลองใช้และตัวจ่ายเงินด้วย ก็ภาษาไทยค่อนข้างแข็งแกร่งถ้าใครที่ไม่ถนัดเขียน คือเดี๋ยวเราจะน่าจะเห็นตัวอย่างพอสมควร พร้อมที่ดีจริงๆมันจะยาวๆนิดนึงเราจะต้องใส่รายละเอียดไซน์อะไรเข้าไปเยอะ เพราะฉะนั้นencie CIA คนที่ภาษาอังกฤษอาจจะไม่ได้คร่องที่สุดเพราะฉะนั้นก็ถ้าใครถนัดเขียนพร้อมภาษาไทยจริงๆเค้าจะมีไหนดูจะฉลาดกว่าในเรื่องctor แล้วก็···มีทักษ์อะไรที่เกี่ยวกับภาษา ตั้งชื่อ แต่งอะไรอย่างนี้คอร์สก็ค่อนข้างเนียนนะครับส่วนรูปภาพไปลองกันดูแล้วกันอาจจะไม่ได้อยู่ใน Interest ของ Session วันนี้เท่าไหร่นะครับจะได้เข้าเรื่องเราเร็วผมอยากเปิดเรื่องด้วยอย่างนี้ครับก่อนที่เราจะลงแต่ละ Process เนอะอาจจะเริ่มที่ไปเช็คคิดว่า Data Analysts, Data Scientist จะไปขายก๋วยเตี๋ยวเมื่อไหร่ดีครับพร้อมนะเนี่ย ตอนนี้กำลังหาสูตรอยู่เพราะว่าตั้งแต่ใช้มาอันนี้ตอนแรกก็ไม่รู้สึกว่าเวลาที่เขาพูด AI เราก็ช่างมัน ไม่อยากไปสนใจอะไรอย่างนี้Another Hypeช่วงแรกๆมัน Hype เยอะเนอะคนแบบ มันทำนู้นทำนี่ได้นะครับ ไม่เป็นไรวาดรูปเล่นๆไปเรื่อยๆ You Praise น่ารักๆแต่พอ สัก 2-3 วันที่ที่ผ่านมาเนี่ย เล่นจริงจังมากจริงจังแบบมากครั่ง ตอนตismoงอยู่ทุกวันเนี่ยเพราะว่าไปขายก๋วยเตี๋ยวดีกว่าเพราะว่ามันจะเริ่มเข้ามา มีบทบาท มากขึ้นเรื่อยๆแล้วจริงๆจากความรู้สึก的กันนะครับ700 บาทที่จ่าย ทำได้เร็วกว่าJunior ที่ไม่มีประสบการณ์เดี๋ยวพอทิศัพท์ให้ดูมันเร็วมาก เร็วจนน่ากลัวแล้วก็จนรู้สึกว่ามันเหมือนแบบถ้าเกิด AI ตกอยู่ในมือคนที่ไม่ดีมันต้องทำไม่ดีได้แน่นอนเพราะว่าขนาดตกอยู่กับเราที่ไม่ฉลาดมากมันยังฉลาดขนาดเนี่ยเอ้อ เอาไม่ ถอยกลับมาก่อนเดี๋ยวทุกคนจะเพียนไปหมดจริงๆ พี่เชคก็ต้องบอกว่าฉลาดมากในเรื่อง Analytics ซักอย่างซึ่งชาติ GPT มัน replace พี่เชคได้ไหมครับก็ไม่แน่ เราก็ต้องเตรียมใจไว้แต่ตอนนี้เราก็ยังมั่นหน้าอยู่ว่าฉันแหละสู้ได้โอเค ก็จริงๆ ผมไม่คุยกับพี่เชคนอกรอบแล้วเดี๋ยวมีตัวอย่างให้ดูนะครับว่าว่าจริงๆ แล้วเราเป็นคนถามแหละความฉลาดหลายๆ อย่างยังอยู่ที่เราแต่ว่าผมว่า Point หนึ่งที่พี่เชค make แล้วดีมากครับคือถ้าเราเทียบ Juniorที่เพิ่งเข้ามาไม่มีประชบการไม่ได้รู้ Domain Knowledge ใน Industry นั้นเขียนโค้ดก็ยังไม่ค่อยคล่องดีเรียนมาแต่ทฤษฎีตอนปริญญาตรีสิ่งนี้มีโอกาสทำงานได้ดีกว่าถ้าสุดท้ายคุณเป็นคนทำงานที่หัวหน้า Brief Task มาชัดๆ ทำประมาณนี้ก็คือถ้า Task มา Brief มาชัดได้ขนาดนั้นก็จบเลย ก็มีตัวทำแทนให้พี่ละว่าไงครับเห็นด้วยว่าอาจจะทำได้ดีกว่าสำหรับคนที่ไม่มีประสบการณ์ซึ่งอันนี้ผมคิดว่าในอนาคตระบบการศึกษาต้องเปลี่ยนอย่างรุนแรงเพื่อรองรับสิ่งนี้ในอนาคตคนจบอธิษฐามาควรจะทำเป็น Project ได้เลยโดยที่ไม่ได้เรียนมาแค่ทฤษฎีเรียกว่าตั้งคำถามแล้วก็เหมือนพร้อมทำงานในโจทย์ปลายเปิดมากขึ้นเลยถูกไหมต้องเป็นคนที่คิดแล้วก็ไปสั่งมันอีกทีนึงแต่ถ้าทำเป็นทักทักตามคำสั่งก็ไม่น่ารอดแล้วเหมือนกันแต่ว่าอย่างไรก็ตามมันก็มีความผิดพลาดเกิดขึ้นจาก AI ได้อยู่แล้วอย่างที่ทุกคนรู้อยู่Hallucinationขอถามมาในนี้ก็ต้องเป็นคนมีความรู้ถึงจะรู้ว่ามันผิดหรืออย่างน้อยต้องตรวจสอบมันเป็นอันนี้เรื่องสำคัญซึ่งก็แปลว่าถ้าปล่อยมันทำคนเดียวก็อาจจะผิดโดยไม่มีคนตรวจไม่มีคนตรวจ ก็หัวหน้าต้องมาตรวจอีกอย่างนี้ผม Rehab ให้แล้วกันจริงๆเท่าที่คุยมาแล้วกันในทุกวงก็จะตอบเหมือนกันหมดแหละว่าถ้างานแบบ Data Analytics เลยนะจริงๆ มันมันอาจจะยังไม่ถึงการ Replace เราไปได้ 100%เรายังเป็นคนตั้งคำถามเรายังเป็นคนไป Prompt มันนะครับเพราะฉะนั้นความฉลาดในการคิดของพวกเรายังเป็นเรื่องที่สำคัญมากๆแต่เรื่องเขียนโค้ดอะไรอย่างนี้จริงๆมันคล่องมากๆ แล้วจริงๆ อันที่เราคุยกันนอกล่องเมื่อกี้คืออันที่ผมว่ามันอันตรายก็คือDomain Knowledge เป็นอะไรที่ยากมากๆในนี้มีใครทำงาน Bank นะครับ1 คนถ้วน น้อยจังกับ 2 คนBank เป็นหนึ่งในธุรกิจที่Domain Knowledge เยอะมากแล้วพอสอน Data Science ผมเป็นอาจารย์พิเศษที่จุฬานะสอนไปปุ๊บ เขาก็จะรู้ที่สดีแต่ไม่หมดเลยครับแต่พอเจอ Bank ปุ๊บแล้วก็แบบอะไรเหรอสินเชื่อเขาทำกันยังไง Credit Scoringคือเราไม่คือในธนาคารในมหาลัยเราไม่ได้สอนอะไรที่มัน Specific มากๆว่าแบบ Credit Scoring ต้องทำแบบนี้เราสอน General Machine Learning Modelเพราะฉะนั้นเด็กๆก็จะไปแบบฉันก็นึกไม่ออกเหมือนกันว่าว่า Feature มันจะอะไรยังไงดีเพราะฉะนั้น อย่างนี้ต้องบอกว่าใช้ Chat TPTมันตอบได้แม่นได้เจ๋งกว่าเด็ก Junior เพิ่งจบไม่มีประสบการณ์มากๆนะครับ อันนี้ก็จะเป็นตัวที่ถ้าถามผมก็เอามาช่วยได้ค่อนข้างเยอะนะครับ อ่ะคร่าวๆประมาณนี้เนาะ แล้วเดี๋ยวเราจะเริ่มมาลงดีเทลแล้วว่า แต่ละพาร์ทพี่ ๆ เอามาใช้อะไรกันบ้างนะครับ แล้วก็อย่างที่เห็นตอนนี้ทุกคนมีคอมพิวเตอร์รอผมบอกทุกคนว่า เราจะมาแชร์ตัวอย่างเยอะๆกันว่าใครเคยไปใช้ทำอะไรเนาะผมเชื่อว่า ทุกคนที่นั่งฟังในห้องนี้น่าจะพอเห็นภาพประมาณนึงอยู่แล้วล่ะว่ามันช่วยนู่นกระดายกระดายช่วยนี่ก็ได้ แต่อยากให้เห็น Inaction นิดนึงว่าจังหวะนี้มันง่อยมากเลยว่ะ จังหวะนี้มันแบบ เอ่อ ฉลาดมากเลยอันนี้แบบ ว้าว กว่าที่คิดก็จะได้ไล่ดูตัวอย่างพวกนี้กันมาพาร์ทแรกเลยครับ ผมเริ่มจาก Business Understanding ก่อนเริ่มที่พี่เช็คละกัน Businessพี่เช็ค ถามอะไรบ้างในมุม Business Understandingก็ คือปกติจะเป็นคนมี Framework ในการวิเคราะห์พวกแบบ Businessก่อนที่จะทันเสร็จมาเป็น Analytics Framework อยู่แล้วใช่ไหมฮะหลักๆ จะใช้ Problem Recent Action นะครับก็เราจะพยายามแตกก่อนว่า Problem คืออะไรแล้วค่อยแตกว่า Problem เนี่ย Decompose ลงมาว่ามันเกิดจาก Recent อะไรได้บ้างแล้วไอ้ตรงเนี่ย เราก็ไปผนวกกับ Framework ที่ McKinsey ชอบใช้ที่เขาชอบสัมภาษณ์เด็ก McKinsey เนี่ยที่บอกว่ามันต้องเป็นแบบ Mutually ExclusiveExhaustively พวกเนี่ย ที่บอกว่ามันต้องครบทุกอัน ห้าม O-Lopping นะแล้วมันก็จะมี Process ในการ Decompose มันเป็น Issue Treeคราวนี้ถ้าเกิดเราถามตรงๆ บอกว่า Why Sales Decreaseมันก็จะตอบแบบแห่งๆ แต่ถ้าเกิดเราบอกว่าช่วย Break Down Problem Using Problem Recent ActionWith M-E-C-E and Issue Tree with Mathematic-Alethetic OperationsBy Combining with Customer Lifetime Value อย่างเนี่ยมันก็จะดูฉลาดแบบล้ำขึ้นมาทันทีเรื่อยๆ ได้ แต่ว่ามันอาจจะเรียกว่าเป็นความคิดที่อาจจะไม่ได้ Structure เท่าไหร่ไม่ได้มีโครงสร้างเอาไปต่อยอดได้ง่ายขนาดนั้นพี่เช็คก็บอกว่า อันเนี่ย ก็บอกมันให้คิดออกมาเป็น Issue Treeจริงๆ หลายคนไปดูได้ครับ Issue Tree เป็นคำที่ Common มากพอสมควรในโลกคอนเซาท์เค้าก็แตกออกมา เช่น ยอดขายไม่ดี มันอาจจะเป็นเพราะ Product ไม่ดีเป็นของข้างในไม่ดี หรือ Market ข้างนอกไม่ดีถ้า kem market ข้างนอกไม่ดี เราทำอะไรได้บ้างเราต้องไปแข่งกระต๊าลาทให้ได้แต่ถ้าของข้างในไม่ดี ข้างในเราปรับอะไรได้บ้างก็จะเริ่มมี structuure ในการคิดใน และคิดได้ดูที่ถูกจุดมากขึ้นพี่เชคมี Demo มั้ยครับ มีตัวอย่างมั้ยครับกำลังทำอยู่ โอเค...โอเค ระหว่างที่พี่เชคทำ Demoนั่นครับ อ่ะ เสร็จแล้ว อ่ะ เสร็จแล้วผม Prep ไว้ว่า เราจะต้องแข่งกันนิดนึงนะถ้าเห็น 3 คนนี้ PIMM อะไรแข่งกันอยู่เพราะว่าเราจะน้อยหน้ากันไม่ได้อ่ะ พี่เชค กด Share ครับ เดี๋ยวให้น้องเอาขึ้นOriginal Prompt ก็ใช้ง่ายๆเลยครับ Frame the problem of sales decline using problem recent action framework with the concept of MISI and ITU3 include customer lifetime valueเขาก็จะเขียน problem statement ให้เรา แล้วก็ break down บอกว่าคุณก็ไปดู customer segment ซิดูซิว่ามันไป decline ที่ตรงไหน New customer หรือ Existing customer ไปดู Product quality, Service quality, Market trend competitor, Eternal processแล้วก็อันนี้ก็คือ reason for sales decline แล้วก็จะมี action ให้ดูด้วย แล้วก็จะมีบอกว่ามันอาจจะ affect CLV นะแต่ถ้าเกิดปกติผมก็จะชอบอารมณ์แบบนี้ให้เขาวิเคราะห์มาเป็นสมการให้เลยว่า sales decline มันก็มาจากตรงนี้แล้วเขาก็จะแตกออกมาให้ว่าPrevient sales period เนี่ย มันก็จะออกมาเลยเป็น New customer ลบ New customerPrevious sub-current พวกนี้ครับ เขาก็จะดึงออกมาเป็นแบบเป็นสมการเป็น variable ที่มันเป็นแบบตัวเลขตัวแบบ Analytic มากขึ้นซึ่งพวกนี้เราก็จะสามารถ Shopping ออกไปวิเคราะห์หรือไปทำพวก Dashboard อะไรพวกนี้ได้อย่างรวดเร็วมากขึ้นครับโอเค ดีครับ ก็หลักๆ อันนี้ก็เป็นแค่เหมือนเขียนพร้อมเนาะ แต่แสดงให้เห็นว่าถ้าเขียนพร้อมมี structure ขึ้นเราก็อาจจะมีโอกาสได้คำตอบที่ดีขึ้นนะครับพี่ละครับผม เสริมในมุมนี้ครับ พี่ละทำอะไรบ้างครับโอเค อันนี้คือจะบอกว่าตัวผมเองชอบใช้ ChatGPT เพราะว่ามันสร้างที่เรียกว่า GPT-S ได้นะ GPT ที่เป็น AICustom GPT ที่เราสามารถใส่ instruction ว่าจะให้มันตอบแนวไหนยังไง ฟอร์แมตต์มันยังไงนะครับ ผมก็มีสร้างไว้หลายตัวเลย มีตัวนึงพี่ละอาจจะลองเข้าไปตอนสร้าง GPT ให้ทุกคนดูได้ไหมครับเดี๋ยวทุกคนดูได้ได้ไหมครับ เราจะได้เห็นว่ามันทำอะไรได้บ้างพอดีเห็นอาจารย์เชคพูดเรื่อง Framework ใช่ไหม ก็เลยนึกถึงว่าผมก็เคยสร้าง GPT ตัวนึงที่เหมือนเอาไว้ตอบเรื่อง Framework โดยเฉพาะนี่พอเห็นไหมเอ่ย อาจจะไม่ได้เห็นชัดมากนะ แต่ว่ามันเป็น GPT ที่ผมตั้งชื่อว่า Framework Trigger นะครับก็จะมี instruction ว่าให้เขาทำงานยังไง แต่หลักๆ เนี่ยผมผมใช้ตัวเนี่ยเพื่อให้เขาแนะนำ Framework ในการคิดปัญหาเรื่องต่างๆเรียกว่าครอบอีกหนึ่งที แทนที่เราจะไปสั่งหนึ่งอย่าง ทำหนึ่ง Framework เราสั่งงานกลางๆ ไปก่อนแล้วก็ให้เลือก Framework ที่เกี่ยวข้องมาให้ ใช่ เพราะว่าส่วนตัวผมไม่ได้เป็น Academic มากผมอาจจะไม่ได้รู้ทีสดีเยอะ สมมตินะแล้วผมก็นึกไม่ออกว่าถ้าจะแก้ปัญหาเรื่องนี้ต้องใช้ Framework อะไรผมก็เลยบอกว่าให้คุณ List Framework ที่เหมาะสมที่สุดในการแก้ปัญหานั้นมา 10 อันแล้วบอก PERCENT ที่เหมาะสมมาให้ด้วยโอ้โห ใช้ PERCENT ด้วยหรอใช้ๆ ให้มัน judge ให้เพราะผมไม่รู้ไง สมมุติผมไม่รู้จักแล้วก็บอกมันว่าหลังจากที่มันลิสต์มาแล้ว แล้วถ้าผมถามรายละเอียดเพิ่มเนี่ยให้คุณอธิบาย ประมาณนี้ว่ามี Framework นี้และอธิบายรายละเอียดของ แต่ละพื้นภาษาของ Framework นั้นแล้วเวลาเราคุยกับมันก็จะทำตามนั้นไปเลยอันนี้จะเสริมหลายๆคนที่ใหม่ตรงนี้ละกันนึกจากอันนี้เรากำลังก้าวข้ามไปอีกโลกนึงแล้วปกติเวลาที่เราใช้พวก ChatGPT เนอะคือเราใช้ Chat Interface ในการเขียน Prompt แล้วก็ให้มันตอบสนองกับเราในรูปแบบของ Chat นะครับแต่ว่าอีกโหมดนึงที่จริงๆเราสามารถใช้เครื่องมือพวกนี้ได้ก็คือใช้ผ่าน API นะครับก็ถ้าใครเป็นฝั่ง Developer เนี่ยเราสามารถเขียน Prompt อะไรส่งไปให้มันได้นะครับซึ่งหลายครั้งในหลายๆ Application แล้วกันเขาก็จะมี Prompt ยาวๆแบบเมื่อกี้เนอะบางทีก็เรียกเป็น System Prompt ก็คือนี่คือโจทย์ที่เราสั่งไว้ให้เนี่ยActor ตัวนี้ต้องทำตามนี้ตาม Prompt ที่สั่งไว้แล้วพอ User มา Interact อะไรเพิ่มเติมแล้วก็ค่อยๆส่ง Message พวกนี้เข้าไปเพิ่มเติมแล้วก็ให้มันตอบกลับมานะครับซึ่งตอนนี้คือถ้าใครใช้ Chat GPT แบบจ่ายตังค์เขาก็จะอำนวยความสะดวกให้สร้างตัว Custom GPT ง่ายๆของตัวเองขึ้นมานะครับเมื่อกี้พีละก็เลยเขียนใหญ่โตเลยเนาะให้มันไปช่วยคิดหน่อยว่าอันนี้เหมาะกับ Framework อะไรนะครับซึ่งอันนี้พีละบอก Framework เข้าไปเลยไหมครับว่ามีอะไรอยู่ในอันนี้ของเราป่ะผมก็ถามมันว่าเนี่ยถ้าเกิดมีข้อมูลเป็น CSV เป็นข้อมูลการขายอะไรอย่างนี้เนาะจะวิเคราะห์เนี่ยจะใช้ Framework อะไรดี มันก็ตอบมาอันแรกคืออันที่คุณต้าขึ้นสไลด์เลยครับ คุณต้าคริสต์ DMนี่ๆเห็นไหมก็จะเป็นตามที่ครับคุณต้าตั้งไว้ในสไลด์ว่าเราจะคุยกันตามFramework นี้นะเoshimaก็บอกobjectally suitable  chew� itคือกือARFM อะไร�วกัน Guysก็ว่าถ้าเกิดผมไม่รู้จักอันไหนผมก็ถามมันเพิ่มผมก็จะได้เข้าใจมันมากขึ้นว่า เขาใช้แนวคิดประมาณนี้กันแล้วเราอาจจะไปถามมันเพิ่มตอนที่หลังteryอะไรกะว่าไปนะครับสมมติเราบอกว่าเราอยากให้กำไรขององค์กรสูงสุดใช่ไหมเขาแนะนำยังไงผมก็บอกว่า งั้นลองคิดแบบ Backward Thinking จากกำไรสูงสุดซีว่าจะทำให้เกิดกำไรสูงสุดได้คุณต้องทำอะไรบ้างมันก็บอกว่า มันก็จะแตกองค์ประกอบมาว่ามีเรื่องของ Level New Growthเรื่อง Cost เรื่อง Customer Loyalty อะไรอย่างนี้ก็ว่าไปผมก็ให้มันทำกราฟเป็น Diagram ออกมาตอนแรกบอกให้มันวาด Diagram ออกมาดูมันทำเป็นHallucinate ขั้นสุดใช้ดอกอีวาดสุดยอดไหมล่ะซึ่งไม่เวิร์ค ผมก็เลยบอกว่า งั้นคุณทำเป็น Diagram ด้วย Python ดีกว่ามันจะได้แบบชัดเจนอะไรออกมาก็วาไปมันก็จะเป๊ะขึ้นเพราะว่ามันเป็น Coding มันไม่ได้เป็นแค่ Generate รูปประมาณนั้นประมาณนี้ อันนี้ก็จะเป็น Part เรียกว่า เข้าใจ Business แล้วกันทีนี้พอเราเริ่มเข้าใจ Business แล้วเราก็ต้องเริ่มไปเรียกว่าเตรียมข้อมูลในการวิเคราะห์ก็เป็น Data Understanding ซึ่งส่วนหนึ่งก็ถ้าเป็นปกติเรา Analysis ทำก็คิวรี่จากฐานข้อมูลหรือบางทีก็อาจจะเอามาเรียกว่าดูตัวอย่างไวๆใน Spreadsheet หรืออีกมุมหนึ่งของการเตรียม Dataคือการไป Scrape Website ต่างๆ มาใน Area พวกนี้ครับ พี่ๆ ใช้ ChatGPT ทำอะไรกันบ้างครับพี่เช็คก่อน คือความไม่รอแล้วแล้วแต่เลยว่า อย่างถ้าเกิดเรามี Data เป็น CSV อยู่แล้วตอนนี้ถ้าเกิดใช้ GPT จ่ายเงินนะครับเราก็สามารถแบบ Upload File ขึ้นไปให้เขาทำ Quality Checkingทำ Data Analysis พื้นทางก็สั่งได้หลัวๆ อยากทำอะไรอยากทำ Visualize ทำ Graph อะไรพวกนี้ครับหรือบอกว่าหา Keyfinding จาก Data Basic Processing อย่างนี้เขาก็จะทำให้ได้ทุกอย่างเลยจริงๆแต่ก็อย่าไปเชื่อน้องเพราะน้องก็จะเออๆ อ้องๆ บางทีอย่างเช่น เคยทำ CV อย่างนี้ครับเวลา Podgraph เสร็จปุ๊บเนี่ยมันก็ไปมองผิดก็คือมันเหมือนแบบด้วยความที่เราทำ 3 Series เนี่ยเราจะมี Period 1 2 3 4 5กับปีจริงหรืออย่างนี้หรือปีจริงกับเดือนจริงเนี่ยน้องก็ไปเอา Actual กับ Forecastที่มันเป็นคนละ Gantt X กันแต่มา Pod ใน Graph เดียวกันมันก็จะดูอุบาตมากว่าแบบอันนึงขยึกๆ ดึงอีกอันนึงขยึกๆ ดึงซึ่งมันต่างกันอย่างนี้เราต้องสั่งให้น้องอีกบอกว่าไม่ เธอต้องอะลาให้อยู่ใน Gantt X เดียวกันแต่มีบางทีที่น้องก็เสียสติทำจนแบบเหมือนมือสั่น อย่างเด็กจูเดียโดนเราดาดจนมือสั่นน้องก็แก้แล้วค่ะ แก้แล้วค่ะก็ยังผิดจนเราแบบ พอ หลบไปฉัน Debug Code เองก็ได้มันก็จะเจอเหตุการณ์เช่นดีแต่เราก็ต้องไวแบบว่าน้องเขาจะพดแบบตวูนหน้ามั่นอะแบบ ป๊ะป๊ะป๊ะป๊ะπ๊ะป๊ะป๊ะป๊ะป๊ะป๊ะป๊ะป๊ะป๊ะ removableป๊ะป๊ะป๊ะป๊ะป๊ะป๊ะป๊ะป๊ะป๊ะ solving momoนะทкретงโอนัว Releaseถ้าใครใช้ ChatGPT บ่ายๆเราจะคุ้นกับคำนี้มากคือไม่ได้ตอบอะไร เราісัพมันก็แบบained my mindอันนั้นตอนผิดตSorry kaliตอนแก้ก็แก้แบบ hearingพี่ละทำอะไรบ้างครับอันหนึ่งที่มีประโยชน์มากเลยผมว่าก็คือการโยน sample data เข้าไปสมมุติว่าข้อมูลเยอะมากอาจจะเอาแค่สักร้อยสองร้อยแถวเข้าไปโดยเฉพาะ data ที่เราไม่คุ้นเคยสมมุติเราได้ข้อมูลใหม่มาเรายนให้มันทำความเข้าใจแต่ละ field แต่ละ column ได้แล้วให้มันช่วย suggest ว่าเราควรเอา column ไหนมาวิเคราะห์ต่อจริงๆคือถ้าเวลาเรายน file excel อะไรพวกนี้เข้าไปเนี่ยแล้วแบบไม่พูดอะไรเลยนะสิ่งแรกที่เขาจะทำให้เราอัตโนมัติก็คือฉันเห็นอะไรในนี้บ้างมันมี column ประมาณนี้มี data ประมาณนี้อยู่ผมว่าเดี๋ยวทุกคนมีแชร์พี่เชคยกมือรอไปก่อนนะซึ่งเขาก็จะบอกเราคือต้องบอกงี้ครับถ้าใครใช้ chat gpt มาสักพักนึงจะรู้ว่าน้องขี้โมมากคือเราเห็นทุกคนหัว encara เห็นด้วยคือบางทีเราไม่ชั่งอะไรแต่น้องก็จะมีออภิแนนเพื่อเอาอันไฟล์เราแล้วแล้วติความ improves taht rardor columnให้เลยนะเขาก็เห็นชื่อคอลับว่าคอลับนี้ดูเหมือนจะเปินนู่นนี่นั่นแล้วมีอันทีเขาก็จะแอบ Dea ให้เราไวๆค่ายูนิคในสามสี่หมวดประมาณนี้นะประมาณนี้นะ อะไรอย่างเงี้ย คือเขาก็จะพยายามสรุป อ่าพื้นฐานอะไรให้เราออกมาโดยโดยอัตโนมัติ อ่ะ ประมาณนี้เนอะ อ่ะพี่เชคเอา เด็มโม พี่เชคขึ้นก่อนก็ได้ครับ อ่ะขึ้นแล้วเนอะ อันนี้นะครับ ก็มีไฟล์ ไฟล์ถึงที่เป็นแบบแบบ แต่ละโลเนี้ย ก็คือแทนลูกค้าหนึ่งคนแล้วเราก็จะมี อ่า ตัวแปดนู่นนู่นนู่น นี่ไหมฮะเราก็จะมีบอกว่าคนเนี้ยเคยเข้าร่มแคมเปญหรือไม่เข้าร่มแคมเปญไฟล์เนี้ยเขาจะใช้ที่การแบบ ทําเป็นแบบฝึกขัดว่าสร้าง เพื่อทําลายว่า ในอนาคตเนี้ยลูกค้าเขาใดจะตอบแคมเปญบ้างถูกไหมฮะอ่า เราก็สั่งเขาไปเลยบอกว่าExplore the Data and Perform EDACheck Data Quality and Suggest Features Engineering นะครับน้องเขาจะเริ่มแล้ว เขียน Python ขึ้นมาเลยทันที นะฮะพี่ช่างทีเดียว สามอย่างในหนึ่งสเต็ปเลยครับน้องก็จะเริ่มสติแตก น้องก็จะเริ่มจริงจริงเบื้องหลักน้องเขาจะCluster Question ออกมาเป็นแบบ Bullet Bullet Bullet ก่อนแล้วน้องก็จะพยายามเหมือนแบบ เหมือนเด็กจูเดียครับพยายามเรงงี้ก็เราต้องทำแบบนี้กันว่า ใช่ไหมคะแล้วเราก็ค่อยๆ เขียนไป แล้วต้องทำอย่างนี้ใช่ไหมคะแล้วเราค่อยๆ เขียนไป ซึ่งข้อดีก็คือเราก็จะได้เห็นprocess of thought ของน้อง ว่าน้องเนี่ย จะทำอะไรก่อนอะไรหลังและมันมีความผิดตรงไหน อย่างไงบ้าง ที่น้องยังสติกันไม่ดีอยู่เราก็จะได้เข้าไปธันที่ว่า ห้ามทำอย่างนู้น ที่อย่างนี้ซึ่งไฟล์อย่างนี้ จะเป็นสิ่งที่น้องจะผิดเหมือน desenvolvgurum ทั่วๆ ไปครับ för ว่าพอเราจะมี column ที่ชื่อไอดี ใช่ไหมครับไว้กำกัดว่า อันนี้เป็นลูกค้าคนไหนอันนี้ tier1 เป็นคğlำที่เราจะไม่เอาเข้าit machine modelsแต่ cevaluvergurum ก็จะเผลอเอาเข้าเป็นจุดเหนี่ยที่ที่อะไรนะครับelujah เขาพาเอาเข้าไปเริ่ม แล้วน้ำกระทับแบบoseo Thap ลูกค้าไอดีเยอะเช้า ฯ ซื้อเยอะดิ Forev gouvernementockกราเบจโปรเดลได้เช่นกันนะครับ แต่โดยรวมก็ทุนเวลาไปเยอะมากคือถ้าเกิดเห็นโค้ดอย่างเงี้ย ต่อให้เรารู้ครับแค่พิมพ์คําแรกไว้ import pandas เนี่ย ไหล่ก็ลาวแล้วครับปวดหลัง ปวดไหล่ ปวดคอแล้วนะฮะ โอเค อ่า ได้เดี๋ยวผมอาจจะแชร์อีกอันที่ผมเคยทําแล้วกันจะได้มีตัวอย่างให้เห็นชัดขึ้นจริงๆ คล้ายๆ ของพี่เชค อันนี้ไฟล์ตั้งต้น อันนี้เป็นไฟล์ Transactionsก็โยนอันนี้เข้าไปครับ อันนี้คือ sic as an analyst in a retail competition for a long company who look at theгля alarie of a companyให้ดูอย่างเดียวนะ น้องจะดูอย่างเดียวแม่ น้องไม่ดูอย่างเดียวหรอกน้องคีโม น้องก็จะมาแล้วครับเห็นอะไรเห็น Conservation 데เชอร์eeout h Leistซึ่งในไฟล์ก็คือมีแค่นี้นะแห้งๆ หัวว่าช็อปเดทแต่ความสามารถพิเศษของน้องก็คือสามารถอธิบายได้เป็นฉากๆว่าคอลัมนี้คืออะไรซึ่ง in general ไม่ผิด แต่บางทีก็ผิดจริงๆเหมือนกันเพราะว่าชื่อนี้เราก็ตั้งไว้ อันนี้ต้องบอกว่าแล้วแต่บริษัทแล้วกันคือถ้าบริษัทตั้งชื่อดี เอาจริงๆมันก็จะอ่านชัด แต่บางทีมันคลิปติกมากแต่น้องก็จะตีความในแบบของน้องนิดนึง อันนี้ก็อาจจะต้องระมัดระวังนะครับแต่ว่าที่ผมชอบแล้วกัน จริงๆมันก็จะต่อเนื่องจากเมื่อกี้แบบในเชิง Businessมีข้อมูลนี้สนใจทำอะไรได้บ้าง เขาก็จะมาแล้ว as an analystอย่างน้อยเราอยากดูอะไร เราอยากดู Customer Behavior มาชอบอะไรเมื่อไหร่ดู Product Performance อะไรขายดี ดู Store Performance สาขาไหนดีไม่ดีแต่ถามผมสิ่งที่จริงๆเป็นประโยชน์ที่สุด คล้ายๆที่พี่เชคบอกมันคือทุ่นเวลาตรงนี้ ซึ่งสิ่งที่ผมชอบก็คือสุดท้ายก็ก๊อบไปคือมี Working File ของตัวเอง ในการทำเฉพาะในสิ่งที่ตัวเองสนใจแล้วกันแต่ว่าก็จะมีตรงนี้ที่เขาขึ้นมาให้ andตรงนี้นน่ะ ถ้าผมเอามันทำ RFM Analysis มันก็จะมาเลยอ่ะมันรู้จัก RFM Analysis มันต้องโม๊กก่อน Floral Conf pathetic นะว่า RFM คืออะไรเราไม่ได้ถามด้วยนะคืออะไร concernsเขาจะบอกuriaว่ามันคืออะไรนะครับ but they tell us how to do itแต่ก็ดีเราเช็คความเข้าใจเราได้ but that's a opportunitiesแล้วมันก็จะมาเลยทีละตัวอันนี้จะคำนวนอย่างไร how to calculateมันก็จะทำทุกอย่างมาให้เรานะครับมันจะมีเออเรอร์อะไรอย่างนี้บ้างเป็นครั้งคราวแต่ว่าน้องก็จะสู้กับบางทีเราก็ไปทักมันนิดนึงเดี๋ยวมันก็จะทำได้นะครับหรือเรา suggest อะไรไปนิดๆหน่อยๆเดี๋ยวมันก็จะกลับ on track เข้ามาได้นะครับแต่หลักๆก็คือเรียกว่าลดเวลาในการเขียนโค้ดแต่เรายังต้องเป็นคน drive ทุกอย่างเองว่าอยากให้มันทำอะไรนะครับพี่ลักษณ์มีอะไรเพิ่มเติมไหมครับมวดนี้อันนี้จะเสริมว่าถ้าเกิดว่าเรายนต์ชื่อ FIIL เข้าไปแล้วชาติ GPT ไม่เข้าใจแล้วมนุษย์ก็ไม่เข้าใจเหมือนกันครับหมายถึงว่าคนที่เป็นบทนางงานใหม่ก็ไม่เข้าใจเหมือนกัน\n"
          ]
        }
      ]
    },
    {
      "cell_type": "code",
      "source": [
        "long = 'https://www.youtube.com/watch?v=IDqC9tm3bAs&t=2634s'\n",
        "short = 'https://www.youtube.com/shorts/jM46moNlUaM'\n",
        "short2 = 'https://www.youtube.com/shorts/PEcnPHzsceg'"
      ],
      "metadata": {
        "id": "Gzh50Zf4GTQR"
      },
      "execution_count": 1,
      "outputs": []
    },
    {
      "cell_type": "markdown",
      "source": [],
      "metadata": {
        "id": "S7yCnNoxGUpu"
      }
    }
  ]
}